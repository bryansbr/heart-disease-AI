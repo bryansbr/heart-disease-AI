{
 "cells": [
  {
   "cell_type": "code",
   "execution_count": null,
   "metadata": {},
   "outputs": [],
   "source": [
    "# -*- coding: utf-8 -*-\n",
    "\"\"\"\n",
    "File name: heart-disease.ipynb\n",
    "Creation date: 03/11/2020\n",
    "Modification date: 04/11/2020\n",
    "Authors: Bryan Steven Biojó     - 1629366\n",
    "         Julián Andrés Castaño  - 1625743\n",
    "\t\t Juan Sebastián Saldaña - 1623447\n",
    "\t\t Juan Pablo Rendón      - 1623049\n",
    "\n",
    "\"\"\"\n",
    "\n",
    "# Libraries\n",
    "import numpy as np\n",
    "import pandas as pd\n",
    "import matplotlib.pyplot as plt\n",
    "\n",
    "# Dataset\n",
    "url = "
   ]
  }
 ],
 "metadata": {
  "kernelspec": {
   "display_name": "Python 3",
   "language": "python",
   "name": "python3"
  },
  "language_info": {
   "codemirror_mode": {
    "name": "ipython",
    "version": 3
   },
   "file_extension": ".py",
   "mimetype": "text/x-python",
   "name": "python",
   "nbconvert_exporter": "python",
   "pygments_lexer": "ipython3",
   "version": "3.8.0"
  }
 },
 "nbformat": 4,
 "nbformat_minor": 4
}
